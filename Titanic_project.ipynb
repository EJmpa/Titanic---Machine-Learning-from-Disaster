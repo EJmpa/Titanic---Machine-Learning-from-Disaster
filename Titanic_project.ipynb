{
 "cells": [
  {
   "cell_type": "markdown",
   "id": "441e8086-74cb-4c26-add8-f4ca88faa7df",
   "metadata": {},
   "source": [
    "<font size=\"+3\"><strong>Titanic - Machine Learning from Disaster </strong></font>"
   ]
  },
  {
   "cell_type": "markdown",
   "id": "964df389-c76a-4e46-bc36-d9883e2f52d4",
   "metadata": {},
   "source": [
    "The project is simple: use machine learning to create a model that predicts which passengers survived the Titanic shipwreck.\n",
    "\n",
    "The sinking of the Titanic is one of the most infamous shipwrecks in history.\n",
    "\n",
    "On April 15, 1912, during her maiden voyage, the widely considered “unsinkable” RMS Titanic sank after colliding with an iceberg. Unfortunately, there weren’t enough lifeboats for everyone onboard, resulting in the death of 1502 out of 2224 passengers and crew.\n",
    "\n",
    "While there was some element of luck involved in surviving, it seems some groups of people were more likely to survive than others.\n",
    "\n",
    "In this projet, we are going to build a predictive model that answers the question: “what sorts of people were more likely to survive?” using passenger data (ie name, age, gender, socio-economic class, etc)."
   ]
  },
  {
   "cell_type": "markdown",
   "id": "b6bfd80e-2db8-474c-bd8d-50c54372cc7d",
   "metadata": {},
   "source": [
    "# Importation of libraries"
   ]
  },
  {
   "cell_type": "code",
   "execution_count": 55,
   "id": "eebb3942-5ff5-497e-9aee-c8f9a9872d03",
   "metadata": {},
   "outputs": [],
   "source": [
    "import pandas as pd\n",
    "import matplotlib.pyplot as plt\n",
    "import seaborn as sns\n",
    "import plotly.express as px \n",
    "from sklearn.pipeline import make_pipeline, Pipeline\n",
    "from category_encoders import OrdinalEncoder\n",
    "from sklearn.ensemble import RandomForestClassifier\n",
    "from sklearn.impute import SimpleImputer\n",
    "from sklearn.preprocessing import StandardScaler\n"
   ]
  },
  {
   "cell_type": "markdown",
   "id": "7b4a1b36-fb06-4eba-9ca6-9d3748c7553a",
   "metadata": {},
   "source": [
    "# Data Importation and Preparation/Cleaning"
   ]
  },
  {
   "cell_type": "markdown",
   "id": "f70d462a-03e9-4dae-850d-a9e533e18ecd",
   "metadata": {},
   "source": [
    "## Create a \"data_wranging\" function"
   ]
  },
  {
   "cell_type": "code",
   "execution_count": 21,
   "id": "e701d3a8-90a1-41d7-9118-5e52073ea28a",
   "metadata": {},
   "outputs": [],
   "source": [
    "def data_wrangling(filepath):\n",
    "    # import \"csv file\" into DataFrame\n",
    "    df = pd.read_csv(filepath, index_col = \"PassengerId\")\n",
    "    \n",
    "    # Dropping Low and High cardinality columns\n",
    "    drop_cols =  [\"Name\", \"Ticket\", \"Cabin\", \"Embarked\"]\n",
    "    df = df.drop(columns = drop_cols)\n",
    "    \n",
    "    return df"
   ]
  },
  {
   "cell_type": "code",
   "execution_count": 26,
   "id": "ec63dc7c-03ef-4843-9bcc-227f8bbf86e3",
   "metadata": {},
   "outputs": [],
   "source": [
    "df = data_wrangling(\"train.csv\")"
   ]
  },
  {
   "cell_type": "code",
   "execution_count": 27,
   "id": "51dceb95-a0d9-46c9-852b-3739da984d5a",
   "metadata": {},
   "outputs": [
    {
     "data": {
      "text/plain": [
       "male      577\n",
       "female    314\n",
       "Name: Sex, dtype: int64"
      ]
     },
     "execution_count": 27,
     "metadata": {},
     "output_type": "execute_result"
    }
   ],
   "source": [
    "df[\"Sex\"].value_counts()"
   ]
  },
  {
   "cell_type": "markdown",
   "id": "4812c587-0c40-4a33-9957-8ebd79cf368a",
   "metadata": {},
   "source": [
    "# Split Dataset into Feature Matrix and Target Vector"
   ]
  },
  {
   "cell_type": "code",
   "execution_count": 51,
   "id": "ddea0085-864a-4abe-b805-179ae9e54434",
   "metadata": {},
   "outputs": [],
   "source": [
    "X_train = df.drop(columns = \"Survived\")"
   ]
  },
  {
   "cell_type": "code",
   "execution_count": 52,
   "id": "36279ec5-fb76-4c1a-8690-c2e00b005e6c",
   "metadata": {},
   "outputs": [],
   "source": [
    "y_train = df[\"Survived\"]"
   ]
  },
  {
   "cell_type": "markdown",
   "id": "8ec40a5c-e2d1-4b46-8760-ece083e2f2b7",
   "metadata": {},
   "source": [
    "# Model selection and Building"
   ]
  },
  {
   "cell_type": "code",
   "execution_count": 57,
   "id": "a41fc765-73a0-4821-a866-c12618ee0cdb",
   "metadata": {},
   "outputs": [
    {
     "data": {
      "text/html": [
       "<style>#sk-container-id-3 {color: black;background-color: white;}#sk-container-id-3 pre{padding: 0;}#sk-container-id-3 div.sk-toggleable {background-color: white;}#sk-container-id-3 label.sk-toggleable__label {cursor: pointer;display: block;width: 100%;margin-bottom: 0;padding: 0.3em;box-sizing: border-box;text-align: center;}#sk-container-id-3 label.sk-toggleable__label-arrow:before {content: \"▸\";float: left;margin-right: 0.25em;color: #696969;}#sk-container-id-3 label.sk-toggleable__label-arrow:hover:before {color: black;}#sk-container-id-3 div.sk-estimator:hover label.sk-toggleable__label-arrow:before {color: black;}#sk-container-id-3 div.sk-toggleable__content {max-height: 0;max-width: 0;overflow: hidden;text-align: left;background-color: #f0f8ff;}#sk-container-id-3 div.sk-toggleable__content pre {margin: 0.2em;color: black;border-radius: 0.25em;background-color: #f0f8ff;}#sk-container-id-3 input.sk-toggleable__control:checked~div.sk-toggleable__content {max-height: 200px;max-width: 100%;overflow: auto;}#sk-container-id-3 input.sk-toggleable__control:checked~label.sk-toggleable__label-arrow:before {content: \"▾\";}#sk-container-id-3 div.sk-estimator input.sk-toggleable__control:checked~label.sk-toggleable__label {background-color: #d4ebff;}#sk-container-id-3 div.sk-label input.sk-toggleable__control:checked~label.sk-toggleable__label {background-color: #d4ebff;}#sk-container-id-3 input.sk-hidden--visually {border: 0;clip: rect(1px 1px 1px 1px);clip: rect(1px, 1px, 1px, 1px);height: 1px;margin: -1px;overflow: hidden;padding: 0;position: absolute;width: 1px;}#sk-container-id-3 div.sk-estimator {font-family: monospace;background-color: #f0f8ff;border: 1px dotted black;border-radius: 0.25em;box-sizing: border-box;margin-bottom: 0.5em;}#sk-container-id-3 div.sk-estimator:hover {background-color: #d4ebff;}#sk-container-id-3 div.sk-parallel-item::after {content: \"\";width: 100%;border-bottom: 1px solid gray;flex-grow: 1;}#sk-container-id-3 div.sk-label:hover label.sk-toggleable__label {background-color: #d4ebff;}#sk-container-id-3 div.sk-serial::before {content: \"\";position: absolute;border-left: 1px solid gray;box-sizing: border-box;top: 0;bottom: 0;left: 50%;z-index: 0;}#sk-container-id-3 div.sk-serial {display: flex;flex-direction: column;align-items: center;background-color: white;padding-right: 0.2em;padding-left: 0.2em;position: relative;}#sk-container-id-3 div.sk-item {position: relative;z-index: 1;}#sk-container-id-3 div.sk-parallel {display: flex;align-items: stretch;justify-content: center;background-color: white;position: relative;}#sk-container-id-3 div.sk-item::before, #sk-container-id-3 div.sk-parallel-item::before {content: \"\";position: absolute;border-left: 1px solid gray;box-sizing: border-box;top: 0;bottom: 0;left: 50%;z-index: -1;}#sk-container-id-3 div.sk-parallel-item {display: flex;flex-direction: column;z-index: 1;position: relative;background-color: white;}#sk-container-id-3 div.sk-parallel-item:first-child::after {align-self: flex-end;width: 50%;}#sk-container-id-3 div.sk-parallel-item:last-child::after {align-self: flex-start;width: 50%;}#sk-container-id-3 div.sk-parallel-item:only-child::after {width: 0;}#sk-container-id-3 div.sk-dashed-wrapped {border: 1px dashed gray;margin: 0 0.4em 0.5em 0.4em;box-sizing: border-box;padding-bottom: 0.4em;background-color: white;}#sk-container-id-3 div.sk-label label {font-family: monospace;font-weight: bold;display: inline-block;line-height: 1.2em;}#sk-container-id-3 div.sk-label-container {text-align: center;}#sk-container-id-3 div.sk-container {/* jupyter's `normalize.less` sets `[hidden] { display: none; }` but bootstrap.min.css set `[hidden] { display: none !important; }` so we also need the `!important` here to be able to override the default hidden behavior on the sphinx rendered scikit-learn.org. See: https://github.com/scikit-learn/scikit-learn/issues/21755 */display: inline-block !important;position: relative;}#sk-container-id-3 div.sk-text-repr-fallback {display: none;}</style><div id=\"sk-container-id-3\" class=\"sk-top-container\"><div class=\"sk-text-repr-fallback\"><pre>Pipeline(steps=[(&#x27;ordinalencoder&#x27;,\n",
       "                 OrdinalEncoder(cols=[&#x27;Sex&#x27;],\n",
       "                                mapping=[{&#x27;col&#x27;: &#x27;Sex&#x27;, &#x27;data_type&#x27;: dtype(&#x27;O&#x27;),\n",
       "                                          &#x27;mapping&#x27;: male      1\n",
       "female    2\n",
       "NaN      -2\n",
       "dtype: int64}])),\n",
       "                (&#x27;simpleimputer&#x27;, SimpleImputer()),\n",
       "                (&#x27;standardscaler&#x27;, StandardScaler()),\n",
       "                (&#x27;randomforestclassifier&#x27;,\n",
       "                 RandomForestClassifier(random_state=42))])</pre><b>In a Jupyter environment, please rerun this cell to show the HTML representation or trust the notebook. <br />On GitHub, the HTML representation is unable to render, please try loading this page with nbviewer.org.</b></div><div class=\"sk-container\" hidden><div class=\"sk-item sk-dashed-wrapped\"><div class=\"sk-label-container\"><div class=\"sk-label sk-toggleable\"><input class=\"sk-toggleable__control sk-hidden--visually\" id=\"sk-estimator-id-11\" type=\"checkbox\" ><label for=\"sk-estimator-id-11\" class=\"sk-toggleable__label sk-toggleable__label-arrow\">Pipeline</label><div class=\"sk-toggleable__content\"><pre>Pipeline(steps=[(&#x27;ordinalencoder&#x27;,\n",
       "                 OrdinalEncoder(cols=[&#x27;Sex&#x27;],\n",
       "                                mapping=[{&#x27;col&#x27;: &#x27;Sex&#x27;, &#x27;data_type&#x27;: dtype(&#x27;O&#x27;),\n",
       "                                          &#x27;mapping&#x27;: male      1\n",
       "female    2\n",
       "NaN      -2\n",
       "dtype: int64}])),\n",
       "                (&#x27;simpleimputer&#x27;, SimpleImputer()),\n",
       "                (&#x27;standardscaler&#x27;, StandardScaler()),\n",
       "                (&#x27;randomforestclassifier&#x27;,\n",
       "                 RandomForestClassifier(random_state=42))])</pre></div></div></div><div class=\"sk-serial\"><div class=\"sk-item\"><div class=\"sk-estimator sk-toggleable\"><input class=\"sk-toggleable__control sk-hidden--visually\" id=\"sk-estimator-id-12\" type=\"checkbox\" ><label for=\"sk-estimator-id-12\" class=\"sk-toggleable__label sk-toggleable__label-arrow\">OrdinalEncoder</label><div class=\"sk-toggleable__content\"><pre>OrdinalEncoder(cols=[&#x27;Sex&#x27;],\n",
       "               mapping=[{&#x27;col&#x27;: &#x27;Sex&#x27;, &#x27;data_type&#x27;: dtype(&#x27;O&#x27;),\n",
       "                         &#x27;mapping&#x27;: male      1\n",
       "female    2\n",
       "NaN      -2\n",
       "dtype: int64}])</pre></div></div></div><div class=\"sk-item\"><div class=\"sk-estimator sk-toggleable\"><input class=\"sk-toggleable__control sk-hidden--visually\" id=\"sk-estimator-id-13\" type=\"checkbox\" ><label for=\"sk-estimator-id-13\" class=\"sk-toggleable__label sk-toggleable__label-arrow\">SimpleImputer</label><div class=\"sk-toggleable__content\"><pre>SimpleImputer()</pre></div></div></div><div class=\"sk-item\"><div class=\"sk-estimator sk-toggleable\"><input class=\"sk-toggleable__control sk-hidden--visually\" id=\"sk-estimator-id-14\" type=\"checkbox\" ><label for=\"sk-estimator-id-14\" class=\"sk-toggleable__label sk-toggleable__label-arrow\">StandardScaler</label><div class=\"sk-toggleable__content\"><pre>StandardScaler()</pre></div></div></div><div class=\"sk-item\"><div class=\"sk-estimator sk-toggleable\"><input class=\"sk-toggleable__control sk-hidden--visually\" id=\"sk-estimator-id-15\" type=\"checkbox\" ><label for=\"sk-estimator-id-15\" class=\"sk-toggleable__label sk-toggleable__label-arrow\">RandomForestClassifier</label><div class=\"sk-toggleable__content\"><pre>RandomForestClassifier(random_state=42)</pre></div></div></div></div></div></div></div>"
      ],
      "text/plain": [
       "Pipeline(steps=[('ordinalencoder',\n",
       "                 OrdinalEncoder(cols=['Sex'],\n",
       "                                mapping=[{'col': 'Sex', 'data_type': dtype('O'),\n",
       "                                          'mapping': male      1\n",
       "female    2\n",
       "NaN      -2\n",
       "dtype: int64}])),\n",
       "                ('simpleimputer', SimpleImputer()),\n",
       "                ('standardscaler', StandardScaler()),\n",
       "                ('randomforestclassifier',\n",
       "                 RandomForestClassifier(random_state=42))])"
      ]
     },
     "execution_count": 57,
     "metadata": {},
     "output_type": "execute_result"
    }
   ],
   "source": [
    "model = make_pipeline(\n",
    "    OrdinalEncoder(),\n",
    "    SimpleImputer(strategy=\"mean\"),\n",
    "    StandardScaler(),\n",
    "    RandomForestClassifier(random_state=42)\n",
    ")\n",
    "model.fit(X_train,y_train\n",
    "         )"
   ]
  },
  {
   "cell_type": "markdown",
   "id": "2b613df3-8831-4d30-aef8-d43a68ead796",
   "metadata": {},
   "source": [
    "## Calculate the accuracy of the Model using train_dataset"
   ]
  },
  {
   "cell_type": "code",
   "execution_count": 54,
   "id": "e37ccdfb-c0a0-4090-b937-698bd9283448",
   "metadata": {},
   "outputs": [
    {
     "data": {
      "text/plain": [
       "0.9809203142536476"
      ]
     },
     "execution_count": 54,
     "metadata": {},
     "output_type": "execute_result"
    }
   ],
   "source": [
    "model.score(X_train, y_train)"
   ]
  },
  {
   "cell_type": "code",
   "execution_count": 61,
   "id": "2e39b3ec-fb2d-4cd4-88c0-ddd43ca35ad2",
   "metadata": {},
   "outputs": [
    {
     "data": {
      "text/plain": [
       "array([0.08364522, 0.26564807, 0.26756316, 0.04772491, 0.03795474,\n",
       "       0.2974639 ])"
      ]
     },
     "execution_count": 61,
     "metadata": {},
     "output_type": "execute_result"
    }
   ],
   "source": []
  },
  {
   "cell_type": "markdown",
   "id": "e40b5e52-3f99-4108-85a7-ccccd6c51826",
   "metadata": {},
   "source": [
    "# Testing the built Model"
   ]
  },
  {
   "cell_type": "markdown",
   "id": "7b8ea9f6-7d85-4380-a9eb-c16e728dc671",
   "metadata": {},
   "source": [
    "## Import test dataset"
   ]
  },
  {
   "cell_type": "code",
   "execution_count": 28,
   "id": "b8865da5-e24f-4b2e-b56b-bb1433590403",
   "metadata": {},
   "outputs": [],
   "source": [
    "X_test = data_wrangling(\"test.csv\")"
   ]
  },
  {
   "cell_type": "code",
   "execution_count": 44,
   "id": "c5d893bb-385f-4428-bbc5-648f3b29a057",
   "metadata": {},
   "outputs": [
    {
     "data": {
      "text/plain": [
       "0.9809203142536476"
      ]
     },
     "execution_count": 44,
     "metadata": {},
     "output_type": "execute_result"
    }
   ],
   "source": []
  },
  {
   "cell_type": "markdown",
   "id": "ae92e920-811d-4944-8369-8149ae842b58",
   "metadata": {},
   "source": [
    "### Make Predictions using test dataset"
   ]
  },
  {
   "cell_type": "code",
   "execution_count": 31,
   "id": "33933729-ee99-41ba-b215-16af124c3e80",
   "metadata": {},
   "outputs": [],
   "source": [
    "predictions = model.predict(X_test)"
   ]
  },
  {
   "cell_type": "code",
   "execution_count": 65,
   "id": "a5dcc344-3f42-4a51-a733-6e4e8f72e0a2",
   "metadata": {},
   "outputs": [],
   "source": [
    "importances = model.named_steps[\"randomforestclassifier\"].feature_importances_"
   ]
  },
  {
   "cell_type": "code",
   "execution_count": 72,
   "id": "2677d734-ae82-4d51-8d61-69b44468d000",
   "metadata": {},
   "outputs": [
    {
     "data": {
      "image/png": "[encoded data removed]",
      "text/plain": [
       "<Figure size 640x480 with 1 Axes>"
      ]
     },
     "metadata": {},
     "output_type": "display_data"
    }
   ],
   "source": [
    "feat_imp = pd.Series(importances, index = X_test.columns, name = \"Feature_importances\").sort_values()\n",
    "feat_imp.plot(kind = \"barh\")\n",
    "plt.title(\"Feature Importance Plot\")\n",
    "plt.xlabel(\"Coefficients of each feature\")\n",
    "plt.ylabel(\"Features\");"
   ]
  },
  {
   "cell_type": "markdown",
   "id": "35cf9492-f34e-4f33-96e1-b3543d1be0aa",
   "metadata": {},
   "source": [
    "Create a DataFrame using \"PassengerId\" and Prediction values from test dataset"
   ]
  },
  {
   "cell_type": "code",
   "execution_count": 73,
   "id": "6fafdb1b-f640-4ec3-88c8-e7f2ae31c6ab",
   "metadata": {},
   "outputs": [],
   "source": [
    "sub = pd.DataFrame(\n",
    "    {\"PassengerId\": X_test.index, \"Survived\": predictions}\n",
    ")"
   ]
  },
  {
   "cell_type": "code",
   "execution_count": 74,
   "id": "2ca39643-2af8-49fb-818b-6ab351c6ab13",
   "metadata": {},
   "outputs": [
    {
     "data": {
      "text/html": [
       "<div>\n",
       "<style scoped>\n",
       "    .dataframe tbody tr th:only-of-type {\n",
       "        vertical-align: middle;\n",
       "    }\n",
       "\n",
       "    .dataframe tbody tr th {\n",
       "        vertical-align: top;\n",
       "    }\n",
       "\n",
       "    .dataframe thead th {\n",
       "        text-align: right;\n",
       "    }\n",
       "</style>\n",
       "<table border=\"1\" class=\"dataframe\">\n",
       "  <thead>\n",
       "    <tr style=\"text-align: right;\">\n",
       "      <th></th>\n",
       "      <th>PassengerId</th>\n",
       "      <th>Survived</th>\n",
       "    </tr>\n",
       "  </thead>\n",
       "  <tbody>\n",
       "    <tr>\n",
       "      <th>0</th>\n",
       "      <td>892</td>\n",
       "      <td>0</td>\n",
       "    </tr>\n",
       "    <tr>\n",
       "      <th>1</th>\n",
       "      <td>893</td>\n",
       "      <td>0</td>\n",
       "    </tr>\n",
       "    <tr>\n",
       "      <th>2</th>\n",
       "      <td>894</td>\n",
       "      <td>1</td>\n",
       "    </tr>\n",
       "    <tr>\n",
       "      <th>3</th>\n",
       "      <td>895</td>\n",
       "      <td>1</td>\n",
       "    </tr>\n",
       "    <tr>\n",
       "      <th>4</th>\n",
       "      <td>896</td>\n",
       "      <td>0</td>\n",
       "    </tr>\n",
       "  </tbody>\n",
       "</table>\n",
       "</div>"
      ],
      "text/plain": [
       "   PassengerId  Survived\n",
       "0          892         0\n",
       "1          893         0\n",
       "2          894         1\n",
       "3          895         1\n",
       "4          896         0"
      ]
     },
     "execution_count": 74,
     "metadata": {},
     "output_type": "execute_result"
    }
   ],
   "source": [
    "sub.head()"
   ]
  },
  {
   "cell_type": "markdown",
   "id": "112b5a30-063f-4afa-90a2-f33028219bb2",
   "metadata": {},
   "source": [
    "Convert Dataframe to \"CSV\" file."
   ]
  },
  {
   "cell_type": "code",
   "execution_count": 75,
   "id": "774a459c-61d0-44eb-a61b-c79c138bc618",
   "metadata": {},
   "outputs": [],
   "source": [
    "sub.to_csv(\"submission.csv\", index = False)"
   ]
  },
  {
   "cell_type": "code",
   "execution_count": null,
   "id": "a513dc06-8d34-42d8-838e-14821625bfa0",
   "metadata": {},
   "outputs": [],
   "source": []
  }
 ],
 "metadata": {
  "kernelspec": {
   "display_name": "Python 3 (ipykernel)",
   "language": "python",
   "name": "python3"
  },
  "language_info": {
   "codemirror_mode": {
    "name": "ipython",
    "version": 3
   },
   "file_extension": ".py",
   "mimetype": "text/x-python",
   "name": "python",
   "nbconvert_exporter": "python",
   "pygments_lexer": "ipython3",
   "version": "3.9.7"
  }
 },
 "nbformat": 4,
 "nbformat_minor": 5
}
